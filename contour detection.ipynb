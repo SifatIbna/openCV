{
 "cells": [
  {
   "cell_type": "code",
   "execution_count": 1,
   "metadata": {},
   "outputs": [],
   "source": [
    "import cv2\n",
    "import numpy as np\n",
    "import matplotlib.pyplot as plt\n",
    "%matplotlib inline"
   ]
  },
  {
   "cell_type": "code",
   "execution_count": 16,
   "metadata": {},
   "outputs": [],
   "source": [
    "img = cv2.imread('test images/different_color.jpg',0)"
   ]
  },
  {
   "cell_type": "code",
   "execution_count": 17,
   "metadata": {},
   "outputs": [
    {
     "data": {
      "text/plain": [
       "dtype('uint8')"
      ]
     },
     "execution_count": 17,
     "metadata": {},
     "output_type": "execute_result"
    }
   ],
   "source": [
    "img.dtype"
   ]
  },
  {
   "cell_type": "code",
   "execution_count": 18,
   "metadata": {},
   "outputs": [
    {
     "data": {
      "text/plain": [
       "<matplotlib.image.AxesImage at 0x197fd96af88>"
      ]
     },
     "execution_count": 18,
     "metadata": {},
     "output_type": "execute_result"
    },
    {
     "data": {
      "image/png": "[encoded data removed]",
      "text/plain": [
       "<Figure size 432x288 with 1 Axes>"
      ]
     },
     "metadata": {
      "needs_background": "light"
     },
     "output_type": "display_data"
    }
   ],
   "source": [
    "plt.imshow(img,cmap='gray')"
   ]
  },
  {
   "cell_type": "code",
   "execution_count": 19,
   "metadata": {},
   "outputs": [],
   "source": [
    "image,contours,hierarchy=cv2.findContours(img,cv2.RETR_CCOMP,cv2.CHAIN_APPROX_SIMPLE)"
   ]
  },
  {
   "cell_type": "code",
   "execution_count": 20,
   "metadata": {},
   "outputs": [
    {
     "data": {
      "text/plain": [
       "list"
      ]
     },
     "execution_count": 20,
     "metadata": {},
     "output_type": "execute_result"
    }
   ],
   "source": [
    "type(contours)"
   ]
  },
  {
   "cell_type": "code",
   "execution_count": 21,
   "metadata": {},
   "outputs": [
    {
     "data": {
      "text/plain": [
       "50"
      ]
     },
     "execution_count": 21,
     "metadata": {},
     "output_type": "execute_result"
    }
   ],
   "source": [
    "len(contours)"
   ]
  },
  {
   "cell_type": "code",
   "execution_count": 22,
   "metadata": {},
   "outputs": [
    {
     "data": {
      "text/plain": [
       "numpy.ndarray"
      ]
     },
     "execution_count": 22,
     "metadata": {},
     "output_type": "execute_result"
    }
   ],
   "source": [
    "type(hierarchy)"
   ]
  },
  {
   "cell_type": "code",
   "execution_count": 23,
   "metadata": {},
   "outputs": [
    {
     "data": {
      "text/plain": [
       "array([[[-1, -1,  1, -1],\n",
       "        [ 2, -1, -1,  0],\n",
       "        [ 3,  1, -1,  0],\n",
       "        [ 4,  2, -1,  0],\n",
       "        [ 5,  3, -1,  0],\n",
       "        [ 6,  4, -1,  0],\n",
       "        [ 7,  5, -1,  0],\n",
       "        [ 8,  6, -1,  0],\n",
       "        [ 9,  7, -1,  0],\n",
       "        [10,  8, -1,  0],\n",
       "        [11,  9, -1,  0],\n",
       "        [12, 10, -1,  0],\n",
       "        [13, 11, -1,  0],\n",
       "        [14, 12, -1,  0],\n",
       "        [15, 13, -1,  0],\n",
       "        [16, 14, -1,  0],\n",
       "        [17, 15, -1,  0],\n",
       "        [18, 16, -1,  0],\n",
       "        [19, 17, -1,  0],\n",
       "        [20, 18, -1,  0],\n",
       "        [21, 19, -1,  0],\n",
       "        [22, 20, -1,  0],\n",
       "        [23, 21, -1,  0],\n",
       "        [24, 22, -1,  0],\n",
       "        [25, 23, -1,  0],\n",
       "        [26, 24, -1,  0],\n",
       "        [27, 25, -1,  0],\n",
       "        [28, 26, -1,  0],\n",
       "        [29, 27, -1,  0],\n",
       "        [30, 28, -1,  0],\n",
       "        [31, 29, -1,  0],\n",
       "        [32, 30, -1,  0],\n",
       "        [33, 31, -1,  0],\n",
       "        [34, 32, -1,  0],\n",
       "        [35, 33, -1,  0],\n",
       "        [36, 34, -1,  0],\n",
       "        [37, 35, -1,  0],\n",
       "        [38, 36, -1,  0],\n",
       "        [39, 37, -1,  0],\n",
       "        [40, 38, -1,  0],\n",
       "        [41, 39, -1,  0],\n",
       "        [42, 40, -1,  0],\n",
       "        [43, 41, -1,  0],\n",
       "        [44, 42, -1,  0],\n",
       "        [45, 43, -1,  0],\n",
       "        [46, 44, -1,  0],\n",
       "        [47, 45, -1,  0],\n",
       "        [48, 46, -1,  0],\n",
       "        [49, 47, -1,  0],\n",
       "        [-1, 48, -1,  0]]], dtype=int32)"
      ]
     },
     "execution_count": 23,
     "metadata": {},
     "output_type": "execute_result"
    }
   ],
   "source": [
    "hierarchy\n"
   ]
  },
  {
   "cell_type": "code",
   "execution_count": 31,
   "metadata": {},
   "outputs": [
    {
     "data": {
      "text/plain": [
       "50"
      ]
     },
     "execution_count": 31,
     "metadata": {},
     "output_type": "execute_result"
    }
   ],
   "source": [
    "external_contours = np.zeros(image.shape)\n",
    "external_contours.shape\n",
    "len(contours)"
   ]
  },
  {
   "cell_type": "code",
   "execution_count": 25,
   "metadata": {},
   "outputs": [
    {
     "data": {
      "text/plain": [
       "<matplotlib.image.AxesImage at 0x197fd9d8248>"
      ]
     },
     "execution_count": 25,
     "metadata": {},
     "output_type": "execute_result"
    },
    {
     "data": {
      "image/png": "[encoded data removed]",
      "text/plain": [
       "<Figure size 432x288 with 1 Axes>"
      ]
     },
     "metadata": {
      "needs_background": "light"
     },
     "output_type": "display_data"
    }
   ],
   "source": [
    "plt.imshow(image)"
   ]
  },
  {
   "cell_type": "code",
   "execution_count": 34,
   "metadata": {},
   "outputs": [],
   "source": [
    "for i in range(len(contours)-1):\n",
    "    \n",
    "    if hierarchy[0][i][3] != -1:\n",
    "        \n",
    "        cv2.drawContours(external_contours,contours,i,255,-1)"
   ]
  },
  {
   "cell_type": "code",
   "execution_count": 35,
   "metadata": {},
   "outputs": [
    {
     "data": {
      "text/plain": [
       "<matplotlib.image.AxesImage at 0x197fee0db08>"
      ]
     },
     "execution_count": 35,
     "metadata": {},
     "output_type": "execute_result"
    },
    {
     "data": {
      "image/png": "[encoded data removed]",
      "text/plain": [
       "<Figure size 432x288 with 1 Axes>"
      ]
     },
     "metadata": {
      "needs_background": "light"
     },
     "output_type": "display_data"
    }
   ],
   "source": [
    "plt.imshow(external_contours,cmap='gray')"
   ]
  },
  {
   "cell_type": "code",
   "execution_count": null,
   "metadata": {},
   "outputs": [],
   "source": []
  }
 ],
 "metadata": {
  "kernelspec": {
   "display_name": "Python 3",
   "language": "python",
   "name": "python3"
  },
  "language_info": {
   "codemirror_mode": {
    "name": "ipython",
    "version": 3
   },
   "file_extension": ".py",
   "mimetype": "text/x-python",
   "name": "python",
   "nbconvert_exporter": "python",
   "pygments_lexer": "ipython3",
   "version": "3.7.7"
  }
 },
 "nbformat": 4,
 "nbformat_minor": 4
}
